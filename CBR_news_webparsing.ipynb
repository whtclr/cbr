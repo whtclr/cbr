{
 "cells": [
  {
   "cell_type": "code",
   "execution_count": null,
   "metadata": {
    "scrolled": true
   },
   "outputs": [],
   "source": [
    "'''%pip install selenium\n",
    "%pip install webdriver-manager\n",
    "%pip install beautifulsoup4\n",
    "%pip install numpy\n",
    "%pip install pandas\n",
    "%pip install lxml\n",
    "%pip install openpyxl'''"
   ]
  },
  {
   "cell_type": "code",
   "execution_count": 1,
   "metadata": {},
   "outputs": [],
   "source": [
    "from selenium import webdriver      \n",
    "from selenium.common.exceptions import NoSuchElementException\n",
    "from selenium.webdriver.common.by import By\n",
    "from webdriver_manager.chrome import ChromeDriverManager\n",
    "from selenium.webdriver.support.ui import WebDriverWait\n",
    "from selenium.webdriver.support import expected_conditions as EC\n",
    "import time"
   ]
  },
  {
   "cell_type": "code",
   "execution_count": 2,
   "metadata": {
    "collapsed": true
   },
   "outputs": [
    {
     "name": "stderr",
     "output_type": "stream",
     "text": [
      "[WDM] - Current google-chrome version is 86.0.4240\n",
      "[WDM] - Get LATEST driver version for 86.0.4240\n",
      "[WDM] - Driver [C:\\Users\\shapo\\.wdm\\drivers\\chromedriver\\win32\\86.0.4240.22\\chromedriver.exe] found in cache\n"
     ]
    },
    {
     "name": "stdout",
     "output_type": "stream",
     "text": [
      " \n",
      "Message: element not interactable\n",
      "  (Session info: chrome=86.0.4240.75)\n",
      "\n",
      "Complete\n"
     ]
    }
   ],
   "source": [
    "#CBR SCRIPT\n",
    "#FORMING LIST OF URLs of PRESS RELEASES\n",
    "\n",
    "URL = \"http://cbr.ru/news/\"\n",
    "\n",
    "driver = webdriver.Chrome(ChromeDriverManager().install())\n",
    "driver.get(URL)\n",
    "driver.get_cookies\n",
    "#cookie_button=driver.find_element_by_name('btn _medium _blue ')\n",
    "#cookie_button.click()\n",
    "\n",
    "time.sleep(5)\n",
    "i=0\n",
    "while i<=200:\n",
    "    try:\n",
    "        loadMoreButton = driver.find_element_by_id('_buttonLoadNextEvt')\n",
    "        \n",
    "        loadMoreButton.click()\n",
    "        time.sleep(0.07)\n",
    "    except Exception as e:\n",
    "        print (e)\n",
    "        break\n",
    "print (\"Complete\")\n"
   ]
  },
  {
   "cell_type": "code",
   "execution_count": 3,
   "metadata": {},
   "outputs": [],
   "source": [
    "#Searching for news urls\n",
    "refelements=driver.find_elements_by_xpath(\"//a[@target='_blank']\")\n",
    "press_urls=[]\n",
    "for i in refelements:\n",
    "    print(i.get_attribute('href'))\n",
    "    press_urls.append(i.get_attribute('href'))\n",
    "len(press_urls)"
   ]
  },
  {
   "cell_type": "code",
   "execution_count": 7,
   "metadata": {},
   "outputs": [],
   "source": [
    "#PARSING CONTENTS OF URLS - WEB SCRAPPING\n",
    "from bs4 import BeautifulSoup\n",
    "import bs4 as bs\n",
    "import requests\n",
    "import datetime as dt\n",
    "import numpy as np, pandas as pd\n",
    "import csv"
   ]
  },
  {
   "cell_type": "code",
   "execution_count": 45,
   "metadata": {
    "collapsed": true
   },
   "outputs": [
    {
     "name": "stdout",
     "output_type": "stream",
     "text": [
      "http://cbr.ru/press/event/?id=2805  - done\n",
      "http://cbr.ru/press/pr/?file=12082019_101847sbrfr2019-08-12T10_15_49.htm  - done\n",
      "http://cbr.ru/press/pr/?file=12082019_092511coins.htm  - done\n",
      "http://cbr.ru/press/event/?id=2803  - done\n",
      "http://cbr.ru/press/event/?id=2803  - done\n",
      "http://cbr.ru/press/event/?id=2802  - done\n",
      "http://cbr.ru/press/event/?id=2802  - done\n",
      "http://cbr.ru/press/event/?id=2801  - done\n",
      "http://cbr.ru/press/event/?id=2801  - done\n",
      "http://cbr.ru/press/pr/?file=08082019_194500if2019-08-08T19_39_58.htm  - done\n",
      "http://cbr.ru/press/pr/?file=08082019_161203ik2019-08-08T16_11_21.htm  - done\n",
      "http://cbr.ru/press/pr/?file=08082019_154500dkp2019-08-08T15_31_42.htm  - done\n",
      "http://cbr.ru/press/event/?id=2798  - done\n",
      "http://cbr.ru/press/event/?id=2798  - done\n",
      "http://cbr.ru/press/pr/?file=07082019_120500if2019-08-07T11_58_59.htm  - done\n",
      "http://cbr.ru/press/pr/?file=07082019_110000vbr2019-08-07T10_15_41.htm  - done\n",
      "http://cbr.ru/press/pr/?file=06082019_175127ik2019-08-06T17_40_12.htm  - done\n",
      "http://cbr.ru/press/event/?id=2796  - done\n",
      "http://cbr.ru/press/event/?id=2796  - done\n",
      "http://cbr.ru/press/event/?id=2795  - done\n",
      "http://cbr.ru/press/event/?id=2795  - done\n",
      "http://cbr.ru/press/event/?id=2792  - done\n",
      "http://cbr.ru/press/event/?id=2792  - done\n",
      "http://cbr.ru/press/event/?id=2791  - done\n",
      "http://cbr.ru/press/event/?id=2791  - done\n",
      "http://cbr.ru/press/event/?id=2790  - done\n",
      "http://cbr.ru/press/event/?id=2790  - done\n",
      "http://cbr.ru/press/event/?id=2787  - done\n",
      "http://cbr.ru/press/event/?id=2787  - done\n",
      "http://cbr.ru/press/pr/?file=02082019_124204ik2019-08-02T12_40_02.htm  - done\n"
     ]
    }
   ],
   "source": [
    "#SAVING CONTENTS TO DATAFRAME\n",
    "b=pd.DataFrame()\n",
    "press_dict={}\n",
    "i=0\n",
    "for url in press_urls[1570:1600]:\n",
    "    try:\n",
    "        resp = requests.get(url)\n",
    "        soup = bs.BeautifulSoup(resp.text, 'html.parser')\n",
    "        title = soup.find('span', {'class': 'referenceable'}).text\n",
    "        content_lead=soup.find('div',{'class':'lead-text'})\n",
    "        if content_lead!=None:\n",
    "            content_lead=content_lead.text\n",
    "        else:\n",
    "            content_lead=''\n",
    "        content=soup.find('div',{'class':'landing-text'}).text\n",
    "        contents=content_lead+'\\n'+content\n",
    "        press_dict[title]=contents\n",
    "        print(url,' - done')\n",
    "        i+=1\n",
    "        if len(contents)==0:\n",
    "            print(url, 'element error')\n",
    "        #time.sleep(0.2)\n",
    "    except:\n",
    "        print(url, 'error')\n",
    "        time.sleep(2)\n",
    "\n",
    "a=a.from_dict(press_dict,orient='index')    \n",
    "a.to_excel('Press_releases_long.xlsx')"
   ]
  },
  {
   "cell_type": "code",
   "execution_count": null,
   "metadata": {},
   "outputs": [],
   "source": [
    "'''#POPULATING DATAFRAME WITH URL's FOR REFERENCES\n",
    "url_column=np.asarray(press_urls, dtype=None, order=None)\n",
    "a['url']=url_column'''"
   ]
  }
 ],
 "metadata": {
  "kernelspec": {
   "display_name": "Python 3",
   "language": "python",
   "name": "python3"
  },
  "language_info": {
   "codemirror_mode": {
    "name": "ipython",
    "version": 3
   },
   "file_extension": ".py",
   "mimetype": "text/x-python",
   "name": "python",
   "nbconvert_exporter": "python",
   "pygments_lexer": "ipython3",
   "version": "3.8.3"
  }
 },
 "nbformat": 4,
 "nbformat_minor": 4
}
